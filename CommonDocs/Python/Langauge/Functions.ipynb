{
 "cells": [
  {
   "cell_type": "markdown",
   "metadata": {},
   "source": [
    "# Functions\n",
    "If a task has to be perfomed in a program many times, it is better to code that task as a function. Functions are a piece of reusable code that can be invoked (called) from anywhere. They perform the intended task with supplied parameters and return the result if needed.\n",
    "\n",
    "\n",
    "Python function has several advanatages over `C` functions and `Java` mathods \n",
    "- Functions can take variable number of arguments. This is supported natively\n",
    "- Functions can have named arguments (you had seen it in `print()`)\n",
    "- Functions can return multiple values \n",
    "- If you need a helper function for a function, you can define it inside the function\n",
    "\n",
    "## Defining a function\n",
    "The syntax for defining a function is as follows\n",
    "    \n",
    "    \n",
    "```python\n",
    "    def function_name(argument_list):\n",
    "        statement_1\n",
    "        statement_2\n",
    "        ....\n",
    "        statement_n\n",
    "        return values\n",
    "```\n",
    "\n",
    "Let's write a function for calculating $Fib(n)$, $n$'th Fibonacchi Number, Defined by\n",
    "\n",
    "$Fib(n) = Fib(n-1) + Fib(n-2)$, where $Fib(0) = a$ and $Fib(1) = b$\n",
    "\n",
    "First implementation uses $a = 0,b = 1$. Further implentations include options for modifying $a$ and $b$\n"
   ]
  },
  {
   "cell_type": "code",
   "execution_count": 8,
   "metadata": {
    "collapsed": true
   },
   "outputs": [],
   "source": [
    "def fibonacci_first(n):\n",
    "    first,second = 0,1\n",
    "    while n != 0:\n",
    "        n, first, second = n - 1, second, first + second\n",
    "    return first"
   ]
  },
  {
   "cell_type": "code",
   "execution_count": 5,
   "metadata": {},
   "outputs": [
    {
     "data": {
      "text/plain": [
       "55"
      ]
     },
     "execution_count": 5,
     "metadata": {},
     "output_type": "execute_result"
    }
   ],
   "source": [
    "fibonacci_first(10)       # Function call"
   ]
  },
  {
   "cell_type": "markdown",
   "metadata": {},
   "source": [
    "Let's have an option to choose $a$ and $b$"
   ]
  },
  {
   "cell_type": "code",
   "execution_count": 7,
   "metadata": {
    "collapsed": true
   },
   "outputs": [],
   "source": [
    "def fibonacci_second(n,a,b):\n",
    "    first,second = a,b\n",
    "    while n != 0:\n",
    "        n, first, second = n - 1, second, first + second\n",
    "    return first"
   ]
  },
  {
   "cell_type": "code",
   "execution_count": 9,
   "metadata": {},
   "outputs": [
    {
     "data": {
      "text/plain": [
       "55"
      ]
     },
     "execution_count": 9,
     "metadata": {},
     "output_type": "execute_result"
    }
   ],
   "source": [
    "fibonacci_second(9,1,1)"
   ]
  },
  {
   "cell_type": "markdown",
   "metadata": {},
   "source": [
    "Let $a$ and $b$ have the default values $0$ and $1$ respectively"
   ]
  },
  {
   "cell_type": "code",
   "execution_count": 11,
   "metadata": {},
   "outputs": [],
   "source": [
    "def fibonacci_third(n,a=0,b=1):\n",
    "    first,second = a,b\n",
    "    while n != 0:\n",
    "        n, first, second = n - 1, second, first + second\n",
    "    return first"
   ]
  },
  {
   "cell_type": "code",
   "execution_count": 12,
   "metadata": {},
   "outputs": [
    {
     "data": {
      "text/plain": [
       "55"
      ]
     },
     "execution_count": 12,
     "metadata": {},
     "output_type": "execute_result"
    }
   ],
   "source": [
    "fibonacci_third(10)  # behaves like fibonacchi_first()"
   ]
  },
  {
   "cell_type": "code",
   "execution_count": 14,
   "metadata": {},
   "outputs": [
    {
     "data": {
      "text/plain": [
       "55"
      ]
     },
     "execution_count": 14,
     "metadata": {},
     "output_type": "execute_result"
    }
   ],
   "source": [
    "fibonacci_third(9,1) # behaves like fibonacchi_second(9,1,1)"
   ]
  },
  {
   "cell_type": "code",
   "execution_count": 15,
   "metadata": {},
   "outputs": [
    {
     "data": {
      "text/plain": [
       "89"
      ]
     },
     "execution_count": 15,
     "metadata": {},
     "output_type": "execute_result"
    }
   ],
   "source": [
    "fibonacci_third(9,1,2) # Run with fully different parameters"
   ]
  },
  {
   "cell_type": "markdown",
   "metadata": {},
   "source": [
    "You can also change one default value. You can do this by passing named argument to function"
   ]
  },
  {
   "cell_type": "code",
   "execution_count": 16,
   "metadata": {},
   "outputs": [
    {
     "data": {
      "text/plain": [
       "102"
      ]
     },
     "execution_count": 16,
     "metadata": {},
     "output_type": "execute_result"
    }
   ],
   "source": [
    "fibonacci_third(9,b=3)"
   ]
  },
  {
   "cell_type": "code",
   "execution_count": null,
   "metadata": {
    "collapsed": true
   },
   "outputs": [],
   "source": []
  }
 ],
 "metadata": {
  "kernelspec": {
   "display_name": "Python 3",
   "language": "python",
   "name": "python3"
  },
  "language_info": {
   "codemirror_mode": {
    "name": "ipython",
    "version": 3
   },
   "file_extension": ".py",
   "mimetype": "text/x-python",
   "name": "python",
   "nbconvert_exporter": "python",
   "pygments_lexer": "ipython3",
   "version": "3.5.3"
  }
 },
 "nbformat": 4,
 "nbformat_minor": 2
}
