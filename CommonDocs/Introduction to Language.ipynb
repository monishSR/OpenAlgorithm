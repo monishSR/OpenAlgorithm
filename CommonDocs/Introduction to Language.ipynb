{
 "cells": [
  {
   "cell_type": "markdown",
   "metadata": {},
   "source": [
    "# Python Tutorial"
   ]
  },
  {
   "cell_type": "markdown",
   "metadata": {},
   "source": [
    "## What is Python?\n",
    "Python is a widely used high-level programming language for general-purpose programming, created by Guido van Rossum and first released in 1991. An interpreted language, Python has a design philosophy which emphasizes code readability (notably using whitespace indentation to delimit code blocks rather than curly brackets or keywords), and a syntax which allows programmers to express concepts in fewer lines of code than might be used in languages such as C++ or Java. The language provides constructs intended to enable writing clear programs on both a small and large scale."
   ]
  },
  {
   "cell_type": "markdown",
   "metadata": {},
   "source": [
    "## Pre - Requisities \n",
    "We assume that you have\n",
    "   - Basic understanding of what computer does and what computer programs do\n",
    "   - Knowledge of `C` Language\n",
    "   - Knowledge of Object Oriented Concepts like Objects,Classes,Inheritance,Polymorphism ...\n",
    "   - Knowledge of any Object Oriented Language like `C++`,`Java` or `C#`\n",
    "\n",
    "These Software must be installed to follow the Language tutorial.\n",
    "   - Python 3 (Download from [Python Website](https://www.python.org/) or `apt install` it )\n",
    "   - IPython 3 (An interactive Python Shell, Download from [IPython Project Site](https://ipython.org/) or `apt install` it)\n",
    "\n",
    "We will be using several libraries throughout the tutorial. They can be installed with `pip` (or `pip3`) as\n",
    "`pip install <library-name>`. Following is a list of libraries that has to be installed to follow the tutorial.\n",
    "   - `matplotlib` (For visualizing data sets)\n",
    "   - `numpy` (For faster array operations)\n",
    "   - `seaborn` (For enhancing `matplotlib` graphs, automatically installs `scipy`<sup>1</sup> and `pandas`)\n",
    "   - `networkx` (Provides Graph Data Structure)\n",
    "\n",
    "<sup>1</sup> Installation of `scipy` via `pip` may fail in Windows. Follow this [guide](https://www.scipy.org/install.html) to make it work"
   ]
  },
  {
   "cell_type": "markdown",
   "metadata": {},
   "source": [
    "## Your First Program\n",
    "\n",
    "As a tradition, we start with a program to display `Hello World` on the Console Screen (or the `stdout`)\n",
    "\n",
    "Open the Interative Python Shell by typing `ipython`(or `ipython3`) from the terminal.\n",
    "If everything goes well, you will get a prompt where you can enter statements and see the effect of it. Noow enter the following statement to get started"
   ]
  },
  {
   "cell_type": "code",
   "execution_count": 1,
   "metadata": {},
   "outputs": [
    {
     "name": "stdout",
     "output_type": "stream",
     "text": [
      "Hello World\n"
     ]
    }
   ],
   "source": [
    "print(\"Hello World\")"
   ]
  },
  {
   "cell_type": "markdown",
   "metadata": {},
   "source": [
    "Congrats! ... You have successfully executed your first statement in python. In fact there are many ways to execute python statements. Interactive Console is one of them. You can also pack the statements into single file, whose name ends with an extension `.py`, you can call `python` (or `python3`) to execute them. We will also check this method to execute python statements. Save the contents of below cell into a file named `first.py`.\n",
    "\n",
    "Run this command to execute the file\n",
    "\n",
    "`python3 file.py`"
   ]
  },
  {
   "cell_type": "code",
   "execution_count": 2,
   "metadata": {},
   "outputs": [
    {
     "name": "stdout",
     "output_type": "stream",
     "text": [
      "Hello World\n",
      "Hi from Python File\n"
     ]
    }
   ],
   "source": [
    "print(\"Hello World\")\n",
    "print(\"Hi from Python File\")"
   ]
  },
  {
   "cell_type": "markdown",
   "metadata": {},
   "source": [
    "-----------\n",
    "**Note**: The usage of `print()` function is\n",
    "\n",
    "    print(list_of_values[,sep,end])\n",
    "    \n",
    "- `sep` is the seperator string to be printed in between `value`s in `list_of_values`\n",
    "- `end` is the terminating string that has to be printed after `list_of_values`\n",
    "\n",
    "\n",
    "Example:"
   ]
  },
  {
   "cell_type": "code",
   "execution_count": 40,
   "metadata": {},
   "outputs": [
    {
     "name": "stdout",
     "output_type": "stream",
     "text": [
      "a:b:c,e.f.g\n"
     ]
    }
   ],
   "source": [
    "print('a','b','c',sep=':',end=',')\n",
    "print('e','f','g',sep='.')"
   ]
  },
  {
   "cell_type": "markdown",
   "metadata": {},
   "source": [
    "## Going Further\n",
    "Now you know how to print something to `stdout`. User interaction have to be bidirectional, i.e., we should have a way to read the text from console (the `stdin`). Python Provides `input()` function to make the tasks easy. The usage of `input()` function is\n",
    "\n",
    "    val = input([prompt])\n",
    "    \n",
    "If the prompt argument is present, it is written to standard output without a trailing newline. The function then reads a line from input, converts it to a string (stripping a trailing newline), and returns that.\n",
    "\n",
    "Now Let's write a program that reads your name and prints it on the console\n"
   ]
  },
  {
   "cell_type": "code",
   "execution_count": 5,
   "metadata": {},
   "outputs": [
    {
     "name": "stdout",
     "output_type": "stream",
     "text": [
      "Hi...Please Enter your name : Ravi\n",
      "Hello Ravi\n"
     ]
    }
   ],
   "source": [
    "name = input(\"Hi...Please Enter your name : \")\n",
    "print(\"Hello \" + name)"
   ]
  },
  {
   "cell_type": "markdown",
   "metadata": {},
   "source": [
    "### Formatting the Output\n",
    "In `C` Language, we had `printf()` function to display a formatted string to `stdout`. We also had format specifiers like `%s` for string, `%d` for integers and so on...\n",
    "\n",
    "In Python, there are many ways to format a string, We shall have a look at each way.\n",
    "\n",
    "Python provides '%' as String formatting operator, which has to be used with 'C' style format specifiers. General usage of this operator is as follows.\n",
    "\n",
    "    result = format_string % collection_of_items\n",
    "    \n",
    "Now Let's see the Formatting Operator in action\n"
   ]
  },
  {
   "cell_type": "code",
   "execution_count": 16,
   "metadata": {},
   "outputs": [
    {
     "data": {
      "text/plain": [
       "'8 = 8 , 8.5 = 8.5, name = Ravi, 3 = 0003'"
      ]
     },
     "execution_count": 16,
     "metadata": {},
     "output_type": "execute_result"
    }
   ],
   "source": [
    "'8 = %d , 8.5 = %.1f, name = %s, 3 = %04d' % (8,8.5,'Ravi',3)"
   ]
  },
  {
   "cell_type": "markdown",
   "metadata": {},
   "source": [
    "There is one more way to the formatting, withthout the hassle of remembering the format specifiers. You can use `format()` method of the current string. Same output of above example can be obtained as follows"
   ]
  },
  {
   "cell_type": "code",
   "execution_count": 18,
   "metadata": {},
   "outputs": [
    {
     "data": {
      "text/plain": [
       "'8 = 8, 8.5 = 8.5, name = Ravi, 3 = 0003'"
      ]
     },
     "execution_count": 18,
     "metadata": {},
     "output_type": "execute_result"
    }
   ],
   "source": [
    "'8 = {}, 8.5 = {}, name = {}, 3 = {:04}'.format(8,8.5,'Ravi',3)"
   ]
  },
  {
   "cell_type": "markdown",
   "metadata": {},
   "source": [
    "If the number of items to format goes long, it would be hard to remember their position. You can name each entry in format string, and refer to them in the call to `format()` as shown below. Note that the order of items can be changed now as the items are only reffered by name"
   ]
  },
  {
   "cell_type": "code",
   "execution_count": 19,
   "metadata": {},
   "outputs": [
    {
     "data": {
      "text/plain": [
       "'8 = 8, 8.5 = 8.5, name = Ravi, 3 = 0003'"
      ]
     },
     "execution_count": 19,
     "metadata": {},
     "output_type": "execute_result"
    }
   ],
   "source": [
    "'8 = {a}, 8.5 = {b}, name = {c}, 3 = {d:04}'.format(a=8,c='Ravi',d=3,b=8.5)"
   ]
  },
  {
   "cell_type": "markdown",
   "metadata": {},
   "source": [
    "-----------\n",
    "**Note**: \n",
    "- In `C` and other related languages, `''` is used to refer character and `\"\"` is used to refer string. But in Python, both refer to string. In Python single character is also a string\n",
    "- Know more about Python String Formatting at [PyFormat](https://pyformat.info/)"
   ]
  },
  {
   "cell_type": "markdown",
   "metadata": {},
   "source": [
    "## Arithmatic and Logic Operators\n",
    "\n",
    "The main factor that lead to invention of Computers was the search to simplify the Mathematical Operations. Every computer language provides extensive support for wide range of arithmatic operations. Python's arithmatic operators are superset of those of `C`'s.\n",
    "\n",
    "Let's have look at some of operations"
   ]
  },
  {
   "cell_type": "code",
   "execution_count": 21,
   "metadata": {},
   "outputs": [
    {
     "data": {
      "text/plain": [
       "7"
      ]
     },
     "execution_count": 21,
     "metadata": {},
     "output_type": "execute_result"
    }
   ],
   "source": [
    "4+3"
   ]
  },
  {
   "cell_type": "code",
   "execution_count": 32,
   "metadata": {},
   "outputs": [
    {
     "data": {
      "text/plain": [
       "'hi how are you'"
      ]
     },
     "execution_count": 32,
     "metadata": {},
     "output_type": "execute_result"
    }
   ],
   "source": [
    "'hi'+' '+'how are you'"
   ]
  },
  {
   "cell_type": "code",
   "execution_count": 37,
   "metadata": {},
   "outputs": [
    {
     "ename": "TypeError",
     "evalue": "Can't convert 'int' object to str implicitly",
     "output_type": "error",
     "traceback": [
      "\u001b[0;31m---------------------------------------------------------------------------\u001b[0m",
      "\u001b[0;31mTypeError\u001b[0m                                 Traceback (most recent call last)",
      "\u001b[0;32m<ipython-input-37-4e0a1d805b35>\u001b[0m in \u001b[0;36m<module>\u001b[0;34m()\u001b[0m\n\u001b[0;32m----> 1\u001b[0;31m \u001b[0;34m'c'\u001b[0m \u001b[0;34m+\u001b[0m \u001b[0;36m1\u001b[0m\u001b[0;34m\u001b[0m\u001b[0m\n\u001b[0m",
      "\u001b[0;31mTypeError\u001b[0m: Can't convert 'int' object to str implicitly"
     ]
    }
   ],
   "source": [
    "'c' + 1"
   ]
  },
  {
   "cell_type": "markdown",
   "metadata": {},
   "source": [
    "In `C`, `char` is equalient to `uint8` and arithmatic operations can be done. In Python, it's no more the case. Trying to do so raises a `TypeError`"
   ]
  },
  {
   "cell_type": "code",
   "execution_count": 22,
   "metadata": {},
   "outputs": [
    {
     "data": {
      "text/plain": [
       "1"
      ]
     },
     "execution_count": 22,
     "metadata": {},
     "output_type": "execute_result"
    }
   ],
   "source": [
    "4-3"
   ]
  },
  {
   "cell_type": "code",
   "execution_count": 23,
   "metadata": {},
   "outputs": [
    {
     "data": {
      "text/plain": [
       "1.3333333333333333"
      ]
     },
     "execution_count": 23,
     "metadata": {},
     "output_type": "execute_result"
    }
   ],
   "source": [
    "4/3"
   ]
  },
  {
   "cell_type": "markdown",
   "metadata": {},
   "source": [
    "Note that division results in floating point number, unlike `C`. This behaviour is default from Python 3. Earlier version behaved in the same way as `C`"
   ]
  },
  {
   "cell_type": "code",
   "execution_count": 24,
   "metadata": {},
   "outputs": [
    {
     "data": {
      "text/plain": [
       "1"
      ]
     },
     "execution_count": 24,
     "metadata": {},
     "output_type": "execute_result"
    }
   ],
   "source": [
    "4//3"
   ]
  },
  {
   "cell_type": "code",
   "execution_count": 27,
   "metadata": {},
   "outputs": [
    {
     "data": {
      "text/plain": [
       "1.0"
      ]
     },
     "execution_count": 27,
     "metadata": {},
     "output_type": "execute_result"
    }
   ],
   "source": [
    "5.9//3.0"
   ]
  },
  {
   "cell_type": "markdown",
   "metadata": {},
   "source": [
    "`//` operator results in integer division, it rounds down the result to nearest integer"
   ]
  },
  {
   "cell_type": "code",
   "execution_count": 34,
   "metadata": {},
   "outputs": [
    {
     "data": {
      "text/plain": [
       "20"
      ]
     },
     "execution_count": 34,
     "metadata": {},
     "output_type": "execute_result"
    }
   ],
   "source": [
    "4*5"
   ]
  },
  {
   "cell_type": "code",
   "execution_count": 35,
   "metadata": {},
   "outputs": [
    {
     "data": {
      "text/plain": [
       "'hihi'"
      ]
     },
     "execution_count": 35,
     "metadata": {},
     "output_type": "execute_result"
    }
   ],
   "source": [
    "'hi'*2"
   ]
  },
  {
   "cell_type": "code",
   "execution_count": 28,
   "metadata": {},
   "outputs": [
    {
     "data": {
      "text/plain": [
       "64"
      ]
     },
     "execution_count": 28,
     "metadata": {},
     "output_type": "execute_result"
    }
   ],
   "source": [
    "4**3"
   ]
  },
  {
   "cell_type": "code",
   "execution_count": 29,
   "metadata": {},
   "outputs": [
    {
     "data": {
      "text/plain": [
       "2.0"
      ]
     },
     "execution_count": 29,
     "metadata": {},
     "output_type": "execute_result"
    }
   ],
   "source": [
    "4**0.5"
   ]
  },
  {
   "cell_type": "markdown",
   "metadata": {},
   "source": [
    "`**` operator is Power operator. `a**b` gives `a` raised to the power `b`"
   ]
  },
  {
   "cell_type": "code",
   "execution_count": 38,
   "metadata": {},
   "outputs": [
    {
     "data": {
      "text/plain": [
       "1"
      ]
     },
     "execution_count": 38,
     "metadata": {},
     "output_type": "execute_result"
    }
   ],
   "source": [
    "5%4"
   ]
  },
  {
   "cell_type": "markdown",
   "metadata": {},
   "source": [
    "All other arithmatic operators and bitwise operators and comparision operators that are present in `C` are supported. But the Logical Operators differs from `C`"
   ]
  },
  {
   "cell_type": "markdown",
   "metadata": {},
   "source": [
    "### Logical Operators - `and`,`or` and `not`"
   ]
  },
  {
   "cell_type": "markdown",
   "metadata": {},
   "source": [
    "Before starting with Logical Operators, note that `True` and `False` are boolean primitivies in Python as opposed to `true` and `false` in `C++`,`Java` and `C#`\n",
    "\n",
    "-----------\n",
    "**Note**: \n",
    "- In Python, Single line comments start with `#`\n",
    "- Multiline comments start end end with triple quotes, i.e., `'''`\n",
    "\n",
    "**Example**\n",
    "      # This is a single line comment\n",
    "      '''This is \n",
    "        a multi-\n",
    "        line comment'''"
   ]
  },
  {
   "cell_type": "code",
   "execution_count": 43,
   "metadata": {},
   "outputs": [],
   "source": [
    "# Initialize 2 integer variables\n",
    "a = 20\n",
    "b = 10"
   ]
  },
  {
   "cell_type": "code",
   "execution_count": 44,
   "metadata": {},
   "outputs": [
    {
     "data": {
      "text/plain": [
       "True"
      ]
     },
     "execution_count": 44,
     "metadata": {},
     "output_type": "execute_result"
    }
   ],
   "source": [
    "a == 20 and b == 10"
   ]
  },
  {
   "cell_type": "code",
   "execution_count": 45,
   "metadata": {},
   "outputs": [
    {
     "data": {
      "text/plain": [
       "True"
      ]
     },
     "execution_count": 45,
     "metadata": {},
     "output_type": "execute_result"
    }
   ],
   "source": [
    "a is 20 or b is 0"
   ]
  },
  {
   "cell_type": "code",
   "execution_count": 46,
   "metadata": {},
   "outputs": [
    {
     "data": {
      "text/plain": [
       "False"
      ]
     },
     "execution_count": 46,
     "metadata": {},
     "output_type": "execute_result"
    }
   ],
   "source": [
    "not a == 20"
   ]
  },
  {
   "cell_type": "markdown",
   "metadata": {},
   "source": [
    "## Control Structures\n",
    "Control Structures construct a fundamental part of language along with syntax,semantics and core libraries. It is the Control Structures which makes the program more lively. Since they contol the flow of execution of program, they are named Control structures"
   ]
  },
  {
   "cell_type": "markdown",
   "metadata": {},
   "source": [
    "### `if` condition\n",
    "Usage:\n",
    "    \n",
    "    if condition:\n",
    "        statement_1\n",
    "        statement_2\n",
    "        ...\n",
    "        statement_n\n",
    "\n",
    "Note that a block of code means, same indentation( i.e., same number of tabs before it). Here `statement_1` upto `statement_n` are in `if` block. This enhances the code readability\n",
    "\n",
    "**Example**"
   ]
  },
  {
   "cell_type": "code",
   "execution_count": 58,
   "metadata": {},
   "outputs": [
    {
     "name": "stdout",
     "output_type": "stream",
     "text": [
      "Enter an integer : 8\n",
      "8 is an even number\n"
     ]
    }
   ],
   "source": [
    "response = input(\"Enter an integer : \")\n",
    "num = int(response)\n",
    "if num%2 == 0:\n",
    "    print(\"{} is an even number\".format(num))"
   ]
  },
  {
   "cell_type": "markdown",
   "metadata": {},
   "source": [
    "**Note** :`int(response)` converted the string `response` to integer. If user enters anything other than integer,  `ValueError` is raised"
   ]
  },
  {
   "cell_type": "markdown",
   "metadata": {},
   "source": [
    "### `if-else` condition\n",
    "Usage:\n",
    "    \n",
    "    if condition:\n",
    "        statement_1\n",
    "        statement_2\n",
    "        ...\n",
    "        statement_n\n",
    "    else:\n",
    "        statement_1\n",
    "        statement_2\n",
    "        ...\n",
    "        statement_n\n",
    "        \n",
    "**Example**"
   ]
  },
  {
   "cell_type": "code",
   "execution_count": 59,
   "metadata": {},
   "outputs": [
    {
     "name": "stdout",
     "output_type": "stream",
     "text": [
      "Enter an integer : 5\n",
      "5 is an odd number\n"
     ]
    }
   ],
   "source": [
    "response = input(\"Enter an integer : \")\n",
    "num = int(response)\n",
    "if num%2 == 0:\n",
    "    print(\"{} is an even number\".format(num))\n",
    "else:\n",
    "    print(\"{} is an odd number\".format(num))"
   ]
  },
  {
   "cell_type": "markdown",
   "metadata": {},
   "source": [
    "###  Single Line `if-else`\n",
    "\n",
    "This serves as a replacement for ternery operator avaliable in `C`\n",
    "\n",
    "Usage:\n",
    "\n",
    "`C` ternery\n",
    "    \n",
    "    result = (condition)? value_true : value_false\n",
    "\n",
    "Python Single Line `if else` \n",
    "\n",
    "    result = value_true if condition else value_false\n",
    "    \n",
    "    \n",
    "**Example**"
   ]
  },
  {
   "cell_type": "code",
   "execution_count": 60,
   "metadata": {},
   "outputs": [
    {
     "name": "stdout",
     "output_type": "stream",
     "text": [
      "Enter an integer : 9\n",
      "9 is odd number\n"
     ]
    }
   ],
   "source": [
    "response = input(\"Enter an integer : \")\n",
    "num = int(response)\n",
    "result = \"even\" if num%2==0 else \"odd\"\n",
    "print(\"{} is {} number\".format(num,result))"
   ]
  },
  {
   "cell_type": "markdown",
   "metadata": {},
   "source": [
    "### `if-else` ladder\n",
    "Usage:\n",
    "    \n",
    "    if condition_1:\n",
    "        statements_1\n",
    "    elif condition_2:\n",
    "        statements_2\n",
    "    elif condition_3:\n",
    "        statements_3\n",
    "    ...\n",
    "    ...\n",
    "    elif condition_n:\n",
    "        statements_n\n",
    "    else:\n",
    "        statements_last\n",
    "        \n",
    "Note the use of `elif` instead of `else if` like in `C`,`Java` or `C#`\n",
    "        \n",
    "**Example**"
   ]
  },
  {
   "cell_type": "code",
   "execution_count": 63,
   "metadata": {},
   "outputs": [
    {
     "name": "stdout",
     "output_type": "stream",
     "text": [
      "Enter an integer (+ve or -ve) : -78\n",
      "-78 is -ve\n"
     ]
    }
   ],
   "source": [
    "response = input(\"Enter an integer (+ve or -ve) : \")\n",
    "num = int(response)\n",
    "if num > 0:\n",
    "    print(\"{} is +ve\".format(num))\n",
    "elif num == 0:\n",
    "    print(\"Zero\")\n",
    "else:\n",
    "    print(\"{} is -ve\".format(num))"
   ]
  },
  {
   "cell_type": "markdown",
   "metadata": {},
   "source": [
    "-----------\n",
    "**Note**: There is no `switch-case` structure in Python. It can be realized using `if-else ladder` or any other ways"
   ]
  },
  {
   "cell_type": "markdown",
   "metadata": {},
   "source": [
    "### `while` loop\n",
    "Usage:\n",
    "    \n",
    "    while condition:\n",
    "        statement_1\n",
    "        statement_2\n",
    "        ...\n",
    "        statement_n\n",
    "        \n",
    "**Example**"
   ]
  },
  {
   "cell_type": "code",
   "execution_count": 65,
   "metadata": {},
   "outputs": [
    {
     "name": "stdout",
     "output_type": "stream",
     "text": [
      "Enter an integer : 5\n",
      "Fib[0] = 1,Fib[1] = 2,Fib[2] = 3,Fib[3] = 5,Fib[4] = 8,"
     ]
    }
   ],
   "source": [
    "response = input(\"Enter an integer : \")\n",
    "num = int(response)\n",
    "prev,current = 0,1\n",
    "i = 0\n",
    "while i < num:\n",
    "    prev,current = current,prev + current\n",
    "    print('Fib[{}] = {}'.format(i,current),end=',')\n",
    "    i += 1"
   ]
  },
  {
   "cell_type": "markdown",
   "metadata": {},
   "source": [
    "Note the\n",
    "- Multiple assignments in single statement\n",
    "- Shorthand Operator `+=` as there are no `++` and `--` operators in Python as they are in `C`\n",
    "\n",
    "**There is no `do-while` loop in Python**"
   ]
  },
  {
   "cell_type": "markdown",
   "metadata": {},
   "source": [
    "### `for` loop\n",
    "Usage:\n",
    "    \n",
    "    for object in collection:\n",
    "        do_something_with_object\n",
    "        \n",
    "**Notes**:\n",
    "- `C` like `for(init;test;modify)` is not supported in Python\n",
    "- Python provides `range` object for iterating over numbers\n",
    "\n",
    "Usage of `range` object:\n",
    "\n",
    "    x = range(start = 0,stop,step = 1)\n",
    "    \n",
    "now `x` can be iterated, and it generates numbers including `start` excluding `stop` differing in the steps of `step`"
   ]
  },
  {
   "cell_type": "code",
   "execution_count": 66,
   "metadata": {},
   "outputs": [
    {
     "name": "stdout",
     "output_type": "stream",
     "text": [
      "0,1,2,3,4,5,6,7,8,9,"
     ]
    }
   ],
   "source": [
    "for i in range(10):\n",
    "    print(i,end=',')"
   ]
  },
  {
   "cell_type": "code",
   "execution_count": 67,
   "metadata": {},
   "outputs": [
    {
     "name": "stdout",
     "output_type": "stream",
     "text": [
      "2,5,8,"
     ]
    }
   ],
   "source": [
    "for i in range(2,10,3):\n",
    "    print(i,end=',')"
   ]
  },
  {
   "cell_type": "code",
   "execution_count": 68,
   "metadata": {},
   "outputs": [
    {
     "name": "stdout",
     "output_type": "stream",
     "text": [
      "Enter an integer : 5\n",
      "Fib[0] = 1,Fib[1] = 2,Fib[2] = 3,Fib[3] = 5,Fib[4] = 8,"
     ]
    }
   ],
   "source": [
    "response = input(\"Enter an integer : \")\n",
    "num = int(response)\n",
    "prev,current = 0,1\n",
    "for i in range(num):\n",
    "    prev,current = current,prev + current\n",
    "    print('Fib[{}] = {}'.format(i,current),end=',')"
   ]
  },
  {
   "cell_type": "code",
   "execution_count": null,
   "metadata": {
    "collapsed": true
   },
   "outputs": [],
   "source": []
  }
 ],
 "metadata": {
  "kernelspec": {
   "display_name": "Python 3",
   "language": "python",
   "name": "python3"
  },
  "language_info": {
   "codemirror_mode": {
    "name": "ipython",
    "version": 3
   },
   "file_extension": ".py",
   "mimetype": "text/x-python",
   "name": "python",
   "nbconvert_exporter": "python",
   "pygments_lexer": "ipython3",
   "version": "3.5.3"
  }
 },
 "nbformat": 4,
 "nbformat_minor": 2
}
